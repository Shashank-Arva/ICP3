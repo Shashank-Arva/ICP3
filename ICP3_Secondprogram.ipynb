{
 "cells": [
  {
   "cell_type": "code",
   "execution_count": 21,
   "id": "725e2d0b-516d-44ad-a8bc-1ab1dd090d01",
   "metadata": {},
   "outputs": [
    {
     "name": "stdout",
     "output_type": "stream",
     "text": [
      "The modified matrix is:\n",
      "[[ 2.97338284  0.         14.35491124 14.67605105  5.73011488]\n",
      " [14.20833692  1.51964859 10.9654228   1.50984552  0.        ]\n",
      " [ 7.21074277  6.58002114  2.76474339  0.         10.40459201]\n",
      " [14.49794608 15.81802328 13.5445712   0.          2.23160703]]\n"
     ]
    }
   ],
   "source": [
    "import numpy as np\n",
    "\n",
    "def main():\n",
    "    some_random_matrix = generate_some_random_matrix(4, 5)\n",
    "\n",
    "    modify_matrix(some_random_matrix)\n",
    "\n",
    "    print(\"The modified matrix is:\")\n",
    "    print(some_random_matrix)\n",
    "\n",
    "def generate_some_random_matrix(rows, cols):\n",
    "    return np.random.uniform(1, 20, size=(rows, cols))\n",
    "\n",
    "def modify_matrix(matrix):\n",
    "    matrix[np.arange(matrix.shape[0]), matrix.argmax(axis=1)] = 0\n",
    "\n",
    "if __name__ == \"__main__\":\n",
    "    main()\n",
    "\n"
   ]
  },
  {
   "cell_type": "code",
   "execution_count": null,
   "id": "a642f55a-5413-4b91-abce-9253751d6111",
   "metadata": {},
   "outputs": [],
   "source": []
  }
 ],
 "metadata": {
  "kernelspec": {
   "display_name": "Python 3 (ipykernel)",
   "language": "python",
   "name": "python3"
  },
  "language_info": {
   "codemirror_mode": {
    "name": "ipython",
    "version": 3
   },
   "file_extension": ".py",
   "mimetype": "text/x-python",
   "name": "python",
   "nbconvert_exporter": "python",
   "pygments_lexer": "ipython3",
   "version": "3.12.1"
  }
 },
 "nbformat": 4,
 "nbformat_minor": 5
}
