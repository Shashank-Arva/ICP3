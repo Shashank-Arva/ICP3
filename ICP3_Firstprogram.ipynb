{
 "cells": [
  {
   "cell_type": "code",
   "execution_count": 10,
   "id": "5d9dcd8c-9d65-4d8a-8bf7-bcd0d502753a",
   "metadata": {},
   "outputs": [
    {
     "name": "stdout",
     "output_type": "stream",
     "text": [
      "Average Salary: 80000.0\n",
      "Number of Employees: 3\n"
     ]
    }
   ],
   "source": [
    "class Employee:\n",
    "    employee_count = 0\n",
    "\n",
    "    def __init__(self, name, family, salary, department):\n",
    "        self.name = name\n",
    "        self.family = family\n",
    "        self.salary = salary\n",
    "        self.department = department\n",
    "        Employee.employee_count += 1\n",
    "\n",
    "    @staticmethod\n",
    "    def average_salary(employee_list):\n",
    "        return sum(emp.salary for emp in employee_list) / len(employee_list) if employee_list else 0\n",
    "\n",
    "class FullTimeEmployee(Employee):\n",
    "    def __init__(self, name, family, salary, department, working_hours):\n",
    "        super().__init__(name, family, salary, department)\n",
    "        self.working_hours = working_hours\n",
    "\n",
    "employee_one = Employee(\"Shashank\", \"Family_one\", 70000, \"HR\")\n",
    "employee_two = Employee(\"Vijay\", \"Family_two\", 80000, \"Finance\")\n",
    "full_time_employee = FullTimeEmployee(\"Ajay\", \"Family_three\", 90000, \"IT\", 40)\n",
    "\n",
    "employee_list = [employee_one, employee_two, full_time_employee]\n",
    "\n",
    "average_salary = Employee.average_salary(employee_list)\n",
    "print(f\"Average Salary: {average_salary}\")\n",
    "print(f\"Number of Employees: {Employee.employee_count}\")\n"
   ]
  },
  {
   "cell_type": "code",
   "execution_count": null,
   "id": "4726fda9-9aa1-4970-98f5-2ea92365887b",
   "metadata": {},
   "outputs": [],
   "source": []
  }
 ],
 "metadata": {
  "kernelspec": {
   "display_name": "Python 3 (ipykernel)",
   "language": "python",
   "name": "python3"
  },
  "language_info": {
   "codemirror_mode": {
    "name": "ipython",
    "version": 3
   },
   "file_extension": ".py",
   "mimetype": "text/x-python",
   "name": "python",
   "nbconvert_exporter": "python",
   "pygments_lexer": "ipython3",
   "version": "3.12.1"
  }
 },
 "nbformat": 4,
 "nbformat_minor": 5
}
